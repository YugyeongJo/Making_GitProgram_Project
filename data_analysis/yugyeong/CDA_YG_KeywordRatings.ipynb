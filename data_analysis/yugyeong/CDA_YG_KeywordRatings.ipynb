{
  "nbformat": 4,
  "nbformat_minor": 0,
  "metadata": {
    "colab": {
      "provenance": [],
      "gpuType": "T4",
      "mount_file_id": "1AWa_vEmKTrvOm94gctb7cS4kqWudOQPL",
      "authorship_tag": "ABX9TyNTUFbeETUxsZ67h269kX7x",
      "include_colab_link": true
    },
    "kernelspec": {
      "name": "python3",
      "display_name": "Python 3"
    },
    "language_info": {
      "name": "python"
    },
    "accelerator": "GPU"
  },
  "cells": [
    {
      "cell_type": "markdown",
      "metadata": {
        "id": "view-in-github",
        "colab_type": "text"
      },
      "source": [
        "<a href=\"https://colab.research.google.com/github/YugyeongJo/Making_GitProgram_Project/blob/main/data_analysis/yugyeong/CDA_YG_KeywordRatings.ipynb\" target=\"_parent\"><img src=\"https://colab.research.google.com/assets/colab-badge.svg\" alt=\"Open In Colab\"/></a>"
      ]
    },
    {
      "cell_type": "markdown",
      "source": [
        "# Basic Settings"
      ],
      "metadata": {
        "id": "YuBz99LdI6IK"
      }
    },
    {
      "cell_type": "code",
      "source": [
        "### 한글 폰트 설치\n",
        "!apt-get install -y fonts-nanum\n",
        "!fc-cache -fv\n",
        "!rm ~/.cache/matplotlib -rf\n",
        "# 설치 후 colab의 경우 Runtime > Restart session 필요"
      ],
      "metadata": {
        "id": "csZiLSz4JH1P",
        "colab": {
          "base_uri": "https://localhost:8080/"
        },
        "outputId": "6ae2cbeb-1f91-4d1b-c179-e5c7899e2185"
      },
      "execution_count": null,
      "outputs": [
        {
          "output_type": "stream",
          "name": "stdout",
          "text": [
            "Reading package lists... Done\n",
            "Building dependency tree... Done\n",
            "Reading state information... Done\n",
            "The following NEW packages will be installed:\n",
            "  fonts-nanum\n",
            "0 upgraded, 1 newly installed, 0 to remove and 45 not upgraded.\n",
            "Need to get 10.3 MB of archives.\n",
            "After this operation, 34.1 MB of additional disk space will be used.\n",
            "Get:1 http://archive.ubuntu.com/ubuntu jammy/universe amd64 fonts-nanum all 20200506-1 [10.3 MB]\n",
            "Fetched 10.3 MB in 1s (10.4 MB/s)\n",
            "Selecting previously unselected package fonts-nanum.\n",
            "(Reading database ... 123594 files and directories currently installed.)\n",
            "Preparing to unpack .../fonts-nanum_20200506-1_all.deb ...\n",
            "Unpacking fonts-nanum (20200506-1) ...\n",
            "Setting up fonts-nanum (20200506-1) ...\n",
            "Processing triggers for fontconfig (2.13.1-4.2ubuntu5) ...\n",
            "/usr/share/fonts: caching, new cache contents: 0 fonts, 1 dirs\n",
            "/usr/share/fonts/truetype: caching, new cache contents: 0 fonts, 3 dirs\n",
            "/usr/share/fonts/truetype/humor-sans: caching, new cache contents: 1 fonts, 0 dirs\n",
            "/usr/share/fonts/truetype/liberation: caching, new cache contents: 16 fonts, 0 dirs\n",
            "/usr/share/fonts/truetype/nanum: caching, new cache contents: 12 fonts, 0 dirs\n",
            "/usr/local/share/fonts: caching, new cache contents: 0 fonts, 0 dirs\n",
            "/root/.local/share/fonts: skipping, no such directory\n",
            "/root/.fonts: skipping, no such directory\n",
            "/usr/share/fonts/truetype: skipping, looped directory detected\n",
            "/usr/share/fonts/truetype/humor-sans: skipping, looped directory detected\n",
            "/usr/share/fonts/truetype/liberation: skipping, looped directory detected\n",
            "/usr/share/fonts/truetype/nanum: skipping, looped directory detected\n",
            "/var/cache/fontconfig: cleaning cache directory\n",
            "/root/.cache/fontconfig: not cleaning non-existent cache directory\n",
            "/root/.fontconfig: not cleaning non-existent cache directory\n",
            "fc-cache: succeeded\n"
          ]
        }
      ]
    },
    {
      "cell_type": "code",
      "source": [
        "import matplotlib.pyplot as plt\n",
        "import matplotlib as mpl\n",
        "mpl.rc('font', family='NanumBarunGothic') # 혹은 다른 설치한 Nanum 폰트 사용"
      ],
      "metadata": {
        "id": "Bt5SOcLVJIHT"
      },
      "execution_count": null,
      "outputs": []
    },
    {
      "cell_type": "code",
      "source": [
        "import pandas as pd\n",
        "import seaborn as sns\n",
        "import numpy as np\n",
        "import scipy\n",
        "import scipy.stats as stats\n",
        "\n",
        "import json\n",
        "import ast"
      ],
      "metadata": {
        "id": "LcGZa0VVJJ9K"
      },
      "execution_count": null,
      "outputs": []
    },
    {
      "cell_type": "markdown",
      "source": [
        "# The Movies Dataset CDA"
      ],
      "metadata": {
        "id": "OecuJrTjJKVB"
      }
    },
    {
      "cell_type": "markdown",
      "source": [
        "### 분석 내용 :  키워드와 고객 평점 간의 상관관계 분석"
      ],
      "metadata": {
        "id": "BAQ1qKLgJN-K"
      }
    },
    {
      "cell_type": "markdown",
      "source": [
        "#### 가설 설정\n",
        "- 귀무가설 : 키워드와 영화 평점 사이에 상관관계가 없다.\n",
        "- 대립가설 : 키워드와 영화 평점 사이에 상관관계가 있다."
      ],
      "metadata": {
        "id": "ig39Q8GKJqmx"
      }
    },
    {
      "cell_type": "markdown",
      "source": [
        "### Dataset Road"
      ],
      "metadata": {
        "id": "CRLgRfvMLqIH"
      }
    },
    {
      "cell_type": "code",
      "source": [
        "# CSV 파일 경로 지정\n",
        "file_path01 = '/content/drive/MyDrive/SeSac 데이터 AI개발과정 mini project/dataset/original_movie_data/keywords.csv'\n",
        "file_path02 = '/content/drive/MyDrive/SeSac 데이터 AI개발과정 mini project/dataset/original_movie_data/movies_metadata.csv'\n",
        "\n",
        "# CSV 파일을 DataFrame으로 읽어오기\n",
        "df_keywords = pd.read_csv(file_path01)\n",
        "df_meta = pd.read_csv(file_path02)"
      ],
      "metadata": {
        "colab": {
          "base_uri": "https://localhost:8080/"
        },
        "id": "0BA3nhyCLwux",
        "outputId": "c363628b-ca3d-4d58-bcc1-400b58a01ef4"
      },
      "execution_count": null,
      "outputs": [
        {
          "output_type": "stream",
          "name": "stderr",
          "text": [
            "<ipython-input-4-6142afaaba45>:7: DtypeWarning: Columns (10) have mixed types. Specify dtype option on import or set low_memory=False.\n",
            "  df_meta = pd.read_csv(file_path02)\n"
          ]
        }
      ]
    },
    {
      "cell_type": "markdown",
      "source": [
        "### Dataset merge"
      ],
      "metadata": {
        "id": "NPrUKaY3NBBz"
      }
    },
    {
      "cell_type": "code",
      "source": [
        "# 중요한 컬럼만 추출\n",
        "df_meta = df_meta[['id', 'vote_average']]  # 영화 ID와 평점만 사용"
      ],
      "metadata": {
        "id": "9kFy89VeLzEB"
      },
      "execution_count": null,
      "outputs": []
    },
    {
      "cell_type": "code",
      "source": [
        "# 'id' 기준으로 병합 (필요에 따라 타입 변환)\n",
        "df_meta['id'] = pd.to_numeric(df_meta['id'], errors='coerce')\n",
        "df_keywords['id'] = pd.to_numeric(df_keywords['id'], errors='coerce')"
      ],
      "metadata": {
        "id": "hIRWHojVMsFO"
      },
      "execution_count": null,
      "outputs": []
    },
    {
      "cell_type": "code",
      "source": [
        "# 병합 (left join)\n",
        "df_merged = pd.merge(df_meta, df_keywords, on='id', how='inner')"
      ],
      "metadata": {
        "id": "zLZrTigaMtPg"
      },
      "execution_count": null,
      "outputs": []
    },
    {
      "cell_type": "code",
      "source": [
        "df_merged.head()"
      ],
      "metadata": {
        "colab": {
          "base_uri": "https://localhost:8080/"
        },
        "id": "dKtT5uG7MuKw",
        "outputId": "4940290c-d187-4ce7-a80e-8ce952701e90"
      },
      "execution_count": null,
      "outputs": [
        {
          "output_type": "execute_result",
          "data": {
            "text/plain": [
              "        id  vote_average                                           keywords\n",
              "0    862.0           7.7  [{'id': 931, 'name': 'jealousy'}, {'id': 4290,...\n",
              "1   8844.0           6.9  [{'id': 10090, 'name': 'board game'}, {'id': 1...\n",
              "2  15602.0           6.5  [{'id': 1495, 'name': 'fishing'}, {'id': 12392...\n",
              "3  31357.0           6.1  [{'id': 818, 'name': 'based on novel'}, {'id':...\n",
              "4  11862.0           5.7  [{'id': 1009, 'name': 'baby'}, {'id': 1599, 'n..."
            ],
            "text/html": [
              "\n",
              "  <div id=\"df-a37e53e8-1467-4f87-a90c-366d76fcd1c5\" class=\"colab-df-container\">\n",
              "    <div>\n",
              "<style scoped>\n",
              "    .dataframe tbody tr th:only-of-type {\n",
              "        vertical-align: middle;\n",
              "    }\n",
              "\n",
              "    .dataframe tbody tr th {\n",
              "        vertical-align: top;\n",
              "    }\n",
              "\n",
              "    .dataframe thead th {\n",
              "        text-align: right;\n",
              "    }\n",
              "</style>\n",
              "<table border=\"1\" class=\"dataframe\">\n",
              "  <thead>\n",
              "    <tr style=\"text-align: right;\">\n",
              "      <th></th>\n",
              "      <th>id</th>\n",
              "      <th>vote_average</th>\n",
              "      <th>keywords</th>\n",
              "    </tr>\n",
              "  </thead>\n",
              "  <tbody>\n",
              "    <tr>\n",
              "      <th>0</th>\n",
              "      <td>862.0</td>\n",
              "      <td>7.7</td>\n",
              "      <td>[{'id': 931, 'name': 'jealousy'}, {'id': 4290,...</td>\n",
              "    </tr>\n",
              "    <tr>\n",
              "      <th>1</th>\n",
              "      <td>8844.0</td>\n",
              "      <td>6.9</td>\n",
              "      <td>[{'id': 10090, 'name': 'board game'}, {'id': 1...</td>\n",
              "    </tr>\n",
              "    <tr>\n",
              "      <th>2</th>\n",
              "      <td>15602.0</td>\n",
              "      <td>6.5</td>\n",
              "      <td>[{'id': 1495, 'name': 'fishing'}, {'id': 12392...</td>\n",
              "    </tr>\n",
              "    <tr>\n",
              "      <th>3</th>\n",
              "      <td>31357.0</td>\n",
              "      <td>6.1</td>\n",
              "      <td>[{'id': 818, 'name': 'based on novel'}, {'id':...</td>\n",
              "    </tr>\n",
              "    <tr>\n",
              "      <th>4</th>\n",
              "      <td>11862.0</td>\n",
              "      <td>5.7</td>\n",
              "      <td>[{'id': 1009, 'name': 'baby'}, {'id': 1599, 'n...</td>\n",
              "    </tr>\n",
              "  </tbody>\n",
              "</table>\n",
              "</div>\n",
              "    <div class=\"colab-df-buttons\">\n",
              "\n",
              "  <div class=\"colab-df-container\">\n",
              "    <button class=\"colab-df-convert\" onclick=\"convertToInteractive('df-a37e53e8-1467-4f87-a90c-366d76fcd1c5')\"\n",
              "            title=\"Convert this dataframe to an interactive table.\"\n",
              "            style=\"display:none;\">\n",
              "\n",
              "  <svg xmlns=\"http://www.w3.org/2000/svg\" height=\"24px\" viewBox=\"0 -960 960 960\">\n",
              "    <path d=\"M120-120v-720h720v720H120Zm60-500h600v-160H180v160Zm220 220h160v-160H400v160Zm0 220h160v-160H400v160ZM180-400h160v-160H180v160Zm440 0h160v-160H620v160ZM180-180h160v-160H180v160Zm440 0h160v-160H620v160Z\"/>\n",
              "  </svg>\n",
              "    </button>\n",
              "\n",
              "  <style>\n",
              "    .colab-df-container {\n",
              "      display:flex;\n",
              "      gap: 12px;\n",
              "    }\n",
              "\n",
              "    .colab-df-convert {\n",
              "      background-color: #E8F0FE;\n",
              "      border: none;\n",
              "      border-radius: 50%;\n",
              "      cursor: pointer;\n",
              "      display: none;\n",
              "      fill: #1967D2;\n",
              "      height: 32px;\n",
              "      padding: 0 0 0 0;\n",
              "      width: 32px;\n",
              "    }\n",
              "\n",
              "    .colab-df-convert:hover {\n",
              "      background-color: #E2EBFA;\n",
              "      box-shadow: 0px 1px 2px rgba(60, 64, 67, 0.3), 0px 1px 3px 1px rgba(60, 64, 67, 0.15);\n",
              "      fill: #174EA6;\n",
              "    }\n",
              "\n",
              "    .colab-df-buttons div {\n",
              "      margin-bottom: 4px;\n",
              "    }\n",
              "\n",
              "    [theme=dark] .colab-df-convert {\n",
              "      background-color: #3B4455;\n",
              "      fill: #D2E3FC;\n",
              "    }\n",
              "\n",
              "    [theme=dark] .colab-df-convert:hover {\n",
              "      background-color: #434B5C;\n",
              "      box-shadow: 0px 1px 3px 1px rgba(0, 0, 0, 0.15);\n",
              "      filter: drop-shadow(0px 1px 2px rgba(0, 0, 0, 0.3));\n",
              "      fill: #FFFFFF;\n",
              "    }\n",
              "  </style>\n",
              "\n",
              "    <script>\n",
              "      const buttonEl =\n",
              "        document.querySelector('#df-a37e53e8-1467-4f87-a90c-366d76fcd1c5 button.colab-df-convert');\n",
              "      buttonEl.style.display =\n",
              "        google.colab.kernel.accessAllowed ? 'block' : 'none';\n",
              "\n",
              "      async function convertToInteractive(key) {\n",
              "        const element = document.querySelector('#df-a37e53e8-1467-4f87-a90c-366d76fcd1c5');\n",
              "        const dataTable =\n",
              "          await google.colab.kernel.invokeFunction('convertToInteractive',\n",
              "                                                    [key], {});\n",
              "        if (!dataTable) return;\n",
              "\n",
              "        const docLinkHtml = 'Like what you see? Visit the ' +\n",
              "          '<a target=\"_blank\" href=https://colab.research.google.com/notebooks/data_table.ipynb>data table notebook</a>'\n",
              "          + ' to learn more about interactive tables.';\n",
              "        element.innerHTML = '';\n",
              "        dataTable['output_type'] = 'display_data';\n",
              "        await google.colab.output.renderOutput(dataTable, element);\n",
              "        const docLink = document.createElement('div');\n",
              "        docLink.innerHTML = docLinkHtml;\n",
              "        element.appendChild(docLink);\n",
              "      }\n",
              "    </script>\n",
              "  </div>\n",
              "\n",
              "\n",
              "<div id=\"df-2109694a-8974-4ad1-bef5-37a45b6fccc3\">\n",
              "  <button class=\"colab-df-quickchart\" onclick=\"quickchart('df-2109694a-8974-4ad1-bef5-37a45b6fccc3')\"\n",
              "            title=\"Suggest charts\"\n",
              "            style=\"display:none;\">\n",
              "\n",
              "<svg xmlns=\"http://www.w3.org/2000/svg\" height=\"24px\"viewBox=\"0 0 24 24\"\n",
              "     width=\"24px\">\n",
              "    <g>\n",
              "        <path d=\"M19 3H5c-1.1 0-2 .9-2 2v14c0 1.1.9 2 2 2h14c1.1 0 2-.9 2-2V5c0-1.1-.9-2-2-2zM9 17H7v-7h2v7zm4 0h-2V7h2v10zm4 0h-2v-4h2v4z\"/>\n",
              "    </g>\n",
              "</svg>\n",
              "  </button>\n",
              "\n",
              "<style>\n",
              "  .colab-df-quickchart {\n",
              "      --bg-color: #E8F0FE;\n",
              "      --fill-color: #1967D2;\n",
              "      --hover-bg-color: #E2EBFA;\n",
              "      --hover-fill-color: #174EA6;\n",
              "      --disabled-fill-color: #AAA;\n",
              "      --disabled-bg-color: #DDD;\n",
              "  }\n",
              "\n",
              "  [theme=dark] .colab-df-quickchart {\n",
              "      --bg-color: #3B4455;\n",
              "      --fill-color: #D2E3FC;\n",
              "      --hover-bg-color: #434B5C;\n",
              "      --hover-fill-color: #FFFFFF;\n",
              "      --disabled-bg-color: #3B4455;\n",
              "      --disabled-fill-color: #666;\n",
              "  }\n",
              "\n",
              "  .colab-df-quickchart {\n",
              "    background-color: var(--bg-color);\n",
              "    border: none;\n",
              "    border-radius: 50%;\n",
              "    cursor: pointer;\n",
              "    display: none;\n",
              "    fill: var(--fill-color);\n",
              "    height: 32px;\n",
              "    padding: 0;\n",
              "    width: 32px;\n",
              "  }\n",
              "\n",
              "  .colab-df-quickchart:hover {\n",
              "    background-color: var(--hover-bg-color);\n",
              "    box-shadow: 0 1px 2px rgba(60, 64, 67, 0.3), 0 1px 3px 1px rgba(60, 64, 67, 0.15);\n",
              "    fill: var(--button-hover-fill-color);\n",
              "  }\n",
              "\n",
              "  .colab-df-quickchart-complete:disabled,\n",
              "  .colab-df-quickchart-complete:disabled:hover {\n",
              "    background-color: var(--disabled-bg-color);\n",
              "    fill: var(--disabled-fill-color);\n",
              "    box-shadow: none;\n",
              "  }\n",
              "\n",
              "  .colab-df-spinner {\n",
              "    border: 2px solid var(--fill-color);\n",
              "    border-color: transparent;\n",
              "    border-bottom-color: var(--fill-color);\n",
              "    animation:\n",
              "      spin 1s steps(1) infinite;\n",
              "  }\n",
              "\n",
              "  @keyframes spin {\n",
              "    0% {\n",
              "      border-color: transparent;\n",
              "      border-bottom-color: var(--fill-color);\n",
              "      border-left-color: var(--fill-color);\n",
              "    }\n",
              "    20% {\n",
              "      border-color: transparent;\n",
              "      border-left-color: var(--fill-color);\n",
              "      border-top-color: var(--fill-color);\n",
              "    }\n",
              "    30% {\n",
              "      border-color: transparent;\n",
              "      border-left-color: var(--fill-color);\n",
              "      border-top-color: var(--fill-color);\n",
              "      border-right-color: var(--fill-color);\n",
              "    }\n",
              "    40% {\n",
              "      border-color: transparent;\n",
              "      border-right-color: var(--fill-color);\n",
              "      border-top-color: var(--fill-color);\n",
              "    }\n",
              "    60% {\n",
              "      border-color: transparent;\n",
              "      border-right-color: var(--fill-color);\n",
              "    }\n",
              "    80% {\n",
              "      border-color: transparent;\n",
              "      border-right-color: var(--fill-color);\n",
              "      border-bottom-color: var(--fill-color);\n",
              "    }\n",
              "    90% {\n",
              "      border-color: transparent;\n",
              "      border-bottom-color: var(--fill-color);\n",
              "    }\n",
              "  }\n",
              "</style>\n",
              "\n",
              "  <script>\n",
              "    async function quickchart(key) {\n",
              "      const quickchartButtonEl =\n",
              "        document.querySelector('#' + key + ' button');\n",
              "      quickchartButtonEl.disabled = true;  // To prevent multiple clicks.\n",
              "      quickchartButtonEl.classList.add('colab-df-spinner');\n",
              "      try {\n",
              "        const charts = await google.colab.kernel.invokeFunction(\n",
              "            'suggestCharts', [key], {});\n",
              "      } catch (error) {\n",
              "        console.error('Error during call to suggestCharts:', error);\n",
              "      }\n",
              "      quickchartButtonEl.classList.remove('colab-df-spinner');\n",
              "      quickchartButtonEl.classList.add('colab-df-quickchart-complete');\n",
              "    }\n",
              "    (() => {\n",
              "      let quickchartButtonEl =\n",
              "        document.querySelector('#df-2109694a-8974-4ad1-bef5-37a45b6fccc3 button');\n",
              "      quickchartButtonEl.style.display =\n",
              "        google.colab.kernel.accessAllowed ? 'block' : 'none';\n",
              "    })();\n",
              "  </script>\n",
              "</div>\n",
              "\n",
              "    </div>\n",
              "  </div>\n"
            ],
            "application/vnd.google.colaboratory.intrinsic+json": {
              "type": "dataframe",
              "variable_name": "df_merged",
              "summary": "{\n  \"name\": \"df_merged\",\n  \"rows\": 46482,\n  \"fields\": [\n    {\n      \"column\": \"id\",\n      \"properties\": {\n        \"dtype\": \"number\",\n        \"std\": 113005.2115086758,\n        \"min\": 2.0,\n        \"max\": 469172.0,\n        \"num_unique_values\": 45432,\n        \"samples\": [\n          43942.0,\n          30139.0,\n          85389.0\n        ],\n        \"semantic_type\": \"\",\n        \"description\": \"\"\n      }\n    },\n    {\n      \"column\": \"vote_average\",\n      \"properties\": {\n        \"dtype\": \"number\",\n        \"std\": 1.932040099051427,\n        \"min\": 0.0,\n        \"max\": 10.0,\n        \"num_unique_values\": 92,\n        \"samples\": [\n          3.8,\n          8.1,\n          3.7\n        ],\n        \"semantic_type\": \"\",\n        \"description\": \"\"\n      }\n    },\n    {\n      \"column\": \"keywords\",\n      \"properties\": {\n        \"dtype\": \"string\",\n        \"num_unique_values\": 25989,\n        \"samples\": [\n          \"[{'id': 2173, 'name': 'illegal immigration'}, {'id': 2356, 'name': 'immigrant'}, {'id': 187056, 'name': 'woman director'}, {'id': 193536, 'name': 'cyprus'}]\",\n          \"[{'id': 5657, 'name': 'australia'}]\",\n          \"[{'id': 220, 'name': 'berlin'}, {'id': 351, 'name': 'poison'}, {'id': 407, 'name': 'dictator'}, {'id': 1443, 'name': 'clerk'}, {'id': 1698, 'name': 'ideology'}, {'id': 1956, 'name': 'world war ii'}, {'id': 2052, 'name': 'traitor'}, {'id': 2300, 'name': 'despair'}, {'id': 2535, 'name': 'destroy'}, {'id': 2850, 'name': 'testament'}, {'id': 3054, 'name': 'capitulation'}, {'id': 3055, 'name': 'soviet troops'}, {'id': 3060, 'name': 'race politics'}, {'id': 3061, 'name': 'national socialism'}, {'id': 3063, 'name': 'adolf hitler'}, {'id': 3064, 'name': 'ultimate victory'}, {'id': 3065, 'name': 'minister'}, {'id': 3068, 'name': 'national socialist party'}, {'id': 3737, 'name': 'dying and death'}, {'id': 6165, 'name': 'historical figure'}, {'id': 33671, 'name': 'german shepherd'}]\"\n        ],\n        \"semantic_type\": \"\",\n        \"description\": \"\"\n      }\n    }\n  ]\n}"
            }
          },
          "metadata": {},
          "execution_count": 8
        }
      ]
    },
    {
      "cell_type": "markdown",
      "source": [
        "### Dataset 전처리"
      ],
      "metadata": {
        "id": "xYrZELOrNFL-"
      }
    },
    {
      "cell_type": "code",
      "source": [
        "# 키워드 리스트로 변환\n",
        "df_merged['keywords'] = df_merged['keywords'].apply(lambda x: [d['name'] for d in ast.literal_eval(x)])"
      ],
      "metadata": {
        "id": "FS7jJazAMvsE"
      },
      "execution_count": null,
      "outputs": []
    },
    {
      "cell_type": "code",
      "source": [
        "df_merged[['id', 'keywords']].head()"
      ],
      "metadata": {
        "colab": {
          "base_uri": "https://localhost:8080/"
        },
        "id": "JJSICvNJM1Bp",
        "outputId": "42e859ca-8fb6-4578-dde3-b72f4e7d4763"
      },
      "execution_count": null,
      "outputs": [
        {
          "output_type": "execute_result",
          "data": {
            "text/plain": [
              "        id                                           keywords\n",
              "0    862.0  [jealousy, toy, boy, friendship, friends, riva...\n",
              "1   8844.0  [board game, disappearance, based on children'...\n",
              "2  15602.0  [fishing, best friend, duringcreditsstinger, o...\n",
              "3  31357.0  [based on novel, interracial relationship, sin...\n",
              "4  11862.0  [baby, midlife crisis, confidence, aging, daug..."
            ],
            "text/html": [
              "\n",
              "  <div id=\"df-088fd0c9-cd7e-4082-8126-129a97ecdb7f\" class=\"colab-df-container\">\n",
              "    <div>\n",
              "<style scoped>\n",
              "    .dataframe tbody tr th:only-of-type {\n",
              "        vertical-align: middle;\n",
              "    }\n",
              "\n",
              "    .dataframe tbody tr th {\n",
              "        vertical-align: top;\n",
              "    }\n",
              "\n",
              "    .dataframe thead th {\n",
              "        text-align: right;\n",
              "    }\n",
              "</style>\n",
              "<table border=\"1\" class=\"dataframe\">\n",
              "  <thead>\n",
              "    <tr style=\"text-align: right;\">\n",
              "      <th></th>\n",
              "      <th>id</th>\n",
              "      <th>keywords</th>\n",
              "    </tr>\n",
              "  </thead>\n",
              "  <tbody>\n",
              "    <tr>\n",
              "      <th>0</th>\n",
              "      <td>862.0</td>\n",
              "      <td>[jealousy, toy, boy, friendship, friends, riva...</td>\n",
              "    </tr>\n",
              "    <tr>\n",
              "      <th>1</th>\n",
              "      <td>8844.0</td>\n",
              "      <td>[board game, disappearance, based on children'...</td>\n",
              "    </tr>\n",
              "    <tr>\n",
              "      <th>2</th>\n",
              "      <td>15602.0</td>\n",
              "      <td>[fishing, best friend, duringcreditsstinger, o...</td>\n",
              "    </tr>\n",
              "    <tr>\n",
              "      <th>3</th>\n",
              "      <td>31357.0</td>\n",
              "      <td>[based on novel, interracial relationship, sin...</td>\n",
              "    </tr>\n",
              "    <tr>\n",
              "      <th>4</th>\n",
              "      <td>11862.0</td>\n",
              "      <td>[baby, midlife crisis, confidence, aging, daug...</td>\n",
              "    </tr>\n",
              "  </tbody>\n",
              "</table>\n",
              "</div>\n",
              "    <div class=\"colab-df-buttons\">\n",
              "\n",
              "  <div class=\"colab-df-container\">\n",
              "    <button class=\"colab-df-convert\" onclick=\"convertToInteractive('df-088fd0c9-cd7e-4082-8126-129a97ecdb7f')\"\n",
              "            title=\"Convert this dataframe to an interactive table.\"\n",
              "            style=\"display:none;\">\n",
              "\n",
              "  <svg xmlns=\"http://www.w3.org/2000/svg\" height=\"24px\" viewBox=\"0 -960 960 960\">\n",
              "    <path d=\"M120-120v-720h720v720H120Zm60-500h600v-160H180v160Zm220 220h160v-160H400v160Zm0 220h160v-160H400v160ZM180-400h160v-160H180v160Zm440 0h160v-160H620v160ZM180-180h160v-160H180v160Zm440 0h160v-160H620v160Z\"/>\n",
              "  </svg>\n",
              "    </button>\n",
              "\n",
              "  <style>\n",
              "    .colab-df-container {\n",
              "      display:flex;\n",
              "      gap: 12px;\n",
              "    }\n",
              "\n",
              "    .colab-df-convert {\n",
              "      background-color: #E8F0FE;\n",
              "      border: none;\n",
              "      border-radius: 50%;\n",
              "      cursor: pointer;\n",
              "      display: none;\n",
              "      fill: #1967D2;\n",
              "      height: 32px;\n",
              "      padding: 0 0 0 0;\n",
              "      width: 32px;\n",
              "    }\n",
              "\n",
              "    .colab-df-convert:hover {\n",
              "      background-color: #E2EBFA;\n",
              "      box-shadow: 0px 1px 2px rgba(60, 64, 67, 0.3), 0px 1px 3px 1px rgba(60, 64, 67, 0.15);\n",
              "      fill: #174EA6;\n",
              "    }\n",
              "\n",
              "    .colab-df-buttons div {\n",
              "      margin-bottom: 4px;\n",
              "    }\n",
              "\n",
              "    [theme=dark] .colab-df-convert {\n",
              "      background-color: #3B4455;\n",
              "      fill: #D2E3FC;\n",
              "    }\n",
              "\n",
              "    [theme=dark] .colab-df-convert:hover {\n",
              "      background-color: #434B5C;\n",
              "      box-shadow: 0px 1px 3px 1px rgba(0, 0, 0, 0.15);\n",
              "      filter: drop-shadow(0px 1px 2px rgba(0, 0, 0, 0.3));\n",
              "      fill: #FFFFFF;\n",
              "    }\n",
              "  </style>\n",
              "\n",
              "    <script>\n",
              "      const buttonEl =\n",
              "        document.querySelector('#df-088fd0c9-cd7e-4082-8126-129a97ecdb7f button.colab-df-convert');\n",
              "      buttonEl.style.display =\n",
              "        google.colab.kernel.accessAllowed ? 'block' : 'none';\n",
              "\n",
              "      async function convertToInteractive(key) {\n",
              "        const element = document.querySelector('#df-088fd0c9-cd7e-4082-8126-129a97ecdb7f');\n",
              "        const dataTable =\n",
              "          await google.colab.kernel.invokeFunction('convertToInteractive',\n",
              "                                                    [key], {});\n",
              "        if (!dataTable) return;\n",
              "\n",
              "        const docLinkHtml = 'Like what you see? Visit the ' +\n",
              "          '<a target=\"_blank\" href=https://colab.research.google.com/notebooks/data_table.ipynb>data table notebook</a>'\n",
              "          + ' to learn more about interactive tables.';\n",
              "        element.innerHTML = '';\n",
              "        dataTable['output_type'] = 'display_data';\n",
              "        await google.colab.output.renderOutput(dataTable, element);\n",
              "        const docLink = document.createElement('div');\n",
              "        docLink.innerHTML = docLinkHtml;\n",
              "        element.appendChild(docLink);\n",
              "      }\n",
              "    </script>\n",
              "  </div>\n",
              "\n",
              "\n",
              "<div id=\"df-8b02a68f-6d51-4633-a875-2d4b595a1a83\">\n",
              "  <button class=\"colab-df-quickchart\" onclick=\"quickchart('df-8b02a68f-6d51-4633-a875-2d4b595a1a83')\"\n",
              "            title=\"Suggest charts\"\n",
              "            style=\"display:none;\">\n",
              "\n",
              "<svg xmlns=\"http://www.w3.org/2000/svg\" height=\"24px\"viewBox=\"0 0 24 24\"\n",
              "     width=\"24px\">\n",
              "    <g>\n",
              "        <path d=\"M19 3H5c-1.1 0-2 .9-2 2v14c0 1.1.9 2 2 2h14c1.1 0 2-.9 2-2V5c0-1.1-.9-2-2-2zM9 17H7v-7h2v7zm4 0h-2V7h2v10zm4 0h-2v-4h2v4z\"/>\n",
              "    </g>\n",
              "</svg>\n",
              "  </button>\n",
              "\n",
              "<style>\n",
              "  .colab-df-quickchart {\n",
              "      --bg-color: #E8F0FE;\n",
              "      --fill-color: #1967D2;\n",
              "      --hover-bg-color: #E2EBFA;\n",
              "      --hover-fill-color: #174EA6;\n",
              "      --disabled-fill-color: #AAA;\n",
              "      --disabled-bg-color: #DDD;\n",
              "  }\n",
              "\n",
              "  [theme=dark] .colab-df-quickchart {\n",
              "      --bg-color: #3B4455;\n",
              "      --fill-color: #D2E3FC;\n",
              "      --hover-bg-color: #434B5C;\n",
              "      --hover-fill-color: #FFFFFF;\n",
              "      --disabled-bg-color: #3B4455;\n",
              "      --disabled-fill-color: #666;\n",
              "  }\n",
              "\n",
              "  .colab-df-quickchart {\n",
              "    background-color: var(--bg-color);\n",
              "    border: none;\n",
              "    border-radius: 50%;\n",
              "    cursor: pointer;\n",
              "    display: none;\n",
              "    fill: var(--fill-color);\n",
              "    height: 32px;\n",
              "    padding: 0;\n",
              "    width: 32px;\n",
              "  }\n",
              "\n",
              "  .colab-df-quickchart:hover {\n",
              "    background-color: var(--hover-bg-color);\n",
              "    box-shadow: 0 1px 2px rgba(60, 64, 67, 0.3), 0 1px 3px 1px rgba(60, 64, 67, 0.15);\n",
              "    fill: var(--button-hover-fill-color);\n",
              "  }\n",
              "\n",
              "  .colab-df-quickchart-complete:disabled,\n",
              "  .colab-df-quickchart-complete:disabled:hover {\n",
              "    background-color: var(--disabled-bg-color);\n",
              "    fill: var(--disabled-fill-color);\n",
              "    box-shadow: none;\n",
              "  }\n",
              "\n",
              "  .colab-df-spinner {\n",
              "    border: 2px solid var(--fill-color);\n",
              "    border-color: transparent;\n",
              "    border-bottom-color: var(--fill-color);\n",
              "    animation:\n",
              "      spin 1s steps(1) infinite;\n",
              "  }\n",
              "\n",
              "  @keyframes spin {\n",
              "    0% {\n",
              "      border-color: transparent;\n",
              "      border-bottom-color: var(--fill-color);\n",
              "      border-left-color: var(--fill-color);\n",
              "    }\n",
              "    20% {\n",
              "      border-color: transparent;\n",
              "      border-left-color: var(--fill-color);\n",
              "      border-top-color: var(--fill-color);\n",
              "    }\n",
              "    30% {\n",
              "      border-color: transparent;\n",
              "      border-left-color: var(--fill-color);\n",
              "      border-top-color: var(--fill-color);\n",
              "      border-right-color: var(--fill-color);\n",
              "    }\n",
              "    40% {\n",
              "      border-color: transparent;\n",
              "      border-right-color: var(--fill-color);\n",
              "      border-top-color: var(--fill-color);\n",
              "    }\n",
              "    60% {\n",
              "      border-color: transparent;\n",
              "      border-right-color: var(--fill-color);\n",
              "    }\n",
              "    80% {\n",
              "      border-color: transparent;\n",
              "      border-right-color: var(--fill-color);\n",
              "      border-bottom-color: var(--fill-color);\n",
              "    }\n",
              "    90% {\n",
              "      border-color: transparent;\n",
              "      border-bottom-color: var(--fill-color);\n",
              "    }\n",
              "  }\n",
              "</style>\n",
              "\n",
              "  <script>\n",
              "    async function quickchart(key) {\n",
              "      const quickchartButtonEl =\n",
              "        document.querySelector('#' + key + ' button');\n",
              "      quickchartButtonEl.disabled = true;  // To prevent multiple clicks.\n",
              "      quickchartButtonEl.classList.add('colab-df-spinner');\n",
              "      try {\n",
              "        const charts = await google.colab.kernel.invokeFunction(\n",
              "            'suggestCharts', [key], {});\n",
              "      } catch (error) {\n",
              "        console.error('Error during call to suggestCharts:', error);\n",
              "      }\n",
              "      quickchartButtonEl.classList.remove('colab-df-spinner');\n",
              "      quickchartButtonEl.classList.add('colab-df-quickchart-complete');\n",
              "    }\n",
              "    (() => {\n",
              "      let quickchartButtonEl =\n",
              "        document.querySelector('#df-8b02a68f-6d51-4633-a875-2d4b595a1a83 button');\n",
              "      quickchartButtonEl.style.display =\n",
              "        google.colab.kernel.accessAllowed ? 'block' : 'none';\n",
              "    })();\n",
              "  </script>\n",
              "</div>\n",
              "\n",
              "    </div>\n",
              "  </div>\n"
            ],
            "application/vnd.google.colaboratory.intrinsic+json": {
              "type": "dataframe",
              "summary": "{\n  \"name\": \"df_merged[['id', 'keywords']]\",\n  \"rows\": 5,\n  \"fields\": [\n    {\n      \"column\": \"id\",\n      \"properties\": {\n        \"dtype\": \"number\",\n        \"std\": 11260.110248128123,\n        \"min\": 862.0,\n        \"max\": 31357.0,\n        \"num_unique_values\": 5,\n        \"samples\": [\n          8844.0,\n          11862.0,\n          15602.0\n        ],\n        \"semantic_type\": \"\",\n        \"description\": \"\"\n      }\n    },\n    {\n      \"column\": \"keywords\",\n      \"properties\": {\n        \"dtype\": \"object\",\n        \"semantic_type\": \"\",\n        \"description\": \"\"\n      }\n    }\n  ]\n}"
            }
          },
          "metadata": {},
          "execution_count": 10
        }
      ]
    },
    {
      "cell_type": "markdown",
      "source": [
        "### 상관관계 분석 방법\n",
        "- 카운트 기반 분석\n",
        "- 키워드 빈도와 평점의 상관관계\n",
        "- 회귀분석\n",
        "- 상관계수(Correlation Coefficient)"
      ],
      "metadata": {
        "id": "gGY9K6PrM1eQ"
      }
    },
    {
      "cell_type": "code",
      "source": [
        "# 카운드 기반 분석\n",
        "\n",
        "from collections import Counter\n",
        "\n",
        "# 각 키워드의 빈도 계산\n",
        "keyword_counts = Counter([keyword for keywords in df_merged['keywords'] for keyword in keywords])\n",
        "\n",
        "# 특정 키워드가 포함된 영화들의 평균 평점 계산\n",
        "keyword_avg_rating = {}\n",
        "for keyword in keyword_counts.keys():\n",
        "    avg_rating = df_merged[df_merged['keywords'].apply(lambda x: keyword in x)]['vote_average'].mean()\n",
        "    keyword_avg_rating[keyword] = avg_rating\n",
        "\n",
        "# 평점이 높은 상위 10개의 키워드 출력\n",
        "sorted_avg_rating = sorted(keyword_avg_rating.items(), key=lambda x: x[1], reverse=True)\n",
        "sorted_avg_rating[:10]"
      ],
      "metadata": {
        "id": "f6RQWNpXNMVA",
        "colab": {
          "base_uri": "https://localhost:8080/"
        },
        "outputId": "7bb650d7-acd0-410e-dc0c-7eaf11b89122"
      },
      "execution_count": null,
      "outputs": [
        {
          "output_type": "execute_result",
          "data": {
            "text/plain": [
              "[('simon magus', 10.0),\n",
              " ('dictaphone', 10.0),\n",
              " ('annuity', 10.0),\n",
              " ('beneficiary', 10.0),\n",
              " ('evening gown', 10.0),\n",
              " ('macbeth', 10.0),\n",
              " ('jeepney', 10.0),\n",
              " ('songwriting', 10.0),\n",
              " ('skyjacker', 10.0),\n",
              " ('lion tamer', 10.0)]"
            ]
          },
          "metadata": {},
          "execution_count": 11
        }
      ]
    },
    {
      "cell_type": "code",
      "source": [
        "keyword_dist = []\n",
        "for k, v in keyword_counts.items():\n",
        "    if v > 100:\n",
        "      keyword_dist.append(50)\n",
        "    else:\n",
        "      keyword_dist.append(v)\n",
        "\n",
        "# Create histogram\n",
        "plt.hist(keyword_dist, bins=50, color='skyblue', edgecolor='black')\n",
        "\n",
        "# Add titles and labels\n",
        "plt.title(\"Histogram of Numeric Data\")\n",
        "plt.xlabel(\"Value\")\n",
        "plt.ylabel(\"Frequency\")\n",
        "\n",
        "# Show plot\n",
        "plt.show()"
      ],
      "metadata": {
        "colab": {
          "base_uri": "https://localhost:8080/"
        },
        "id": "ro_NPz_8cI6S",
        "outputId": "49b756f5-0412-400f-a5f2-e31336527107"
      },
      "execution_count": null,
      "outputs": [
        {
          "output_type": "stream",
          "name": "stderr",
          "text": [
            "WARNING:matplotlib.font_manager:findfont: Font family 'NanumBarunGothic' not found.\n",
            "WARNING:matplotlib.font_manager:findfont: Font family 'NanumBarunGothic' not found.\n",
            "WARNING:matplotlib.font_manager:findfont: Font family 'NanumBarunGothic' not found.\n",
            "WARNING:matplotlib.font_manager:findfont: Font family 'NanumBarunGothic' not found.\n",
            "WARNING:matplotlib.font_manager:findfont: Font family 'NanumBarunGothic' not found.\n",
            "WARNING:matplotlib.font_manager:findfont: Font family 'NanumBarunGothic' not found.\n",
            "WARNING:matplotlib.font_manager:findfont: Font family 'NanumBarunGothic' not found.\n",
            "WARNING:matplotlib.font_manager:findfont: Font family 'NanumBarunGothic' not found.\n",
            "WARNING:matplotlib.font_manager:findfont: Font family 'NanumBarunGothic' not found.\n",
            "WARNING:matplotlib.font_manager:findfont: Font family 'NanumBarunGothic' not found.\n",
            "WARNING:matplotlib.font_manager:findfont: Font family 'NanumBarunGothic' not found.\n",
            "WARNING:matplotlib.font_manager:findfont: Font family 'NanumBarunGothic' not found.\n",
            "WARNING:matplotlib.font_manager:findfont: Font family 'NanumBarunGothic' not found.\n",
            "WARNING:matplotlib.font_manager:findfont: Font family 'NanumBarunGothic' not found.\n",
            "WARNING:matplotlib.font_manager:findfont: Font family 'NanumBarunGothic' not found.\n",
            "WARNING:matplotlib.font_manager:findfont: Font family 'NanumBarunGothic' not found.\n",
            "WARNING:matplotlib.font_manager:findfont: Font family 'NanumBarunGothic' not found.\n",
            "WARNING:matplotlib.font_manager:findfont: Font family 'NanumBarunGothic' not found.\n",
            "WARNING:matplotlib.font_manager:findfont: Font family 'NanumBarunGothic' not found.\n",
            "WARNING:matplotlib.font_manager:findfont: Font family 'NanumBarunGothic' not found.\n",
            "WARNING:matplotlib.font_manager:findfont: Font family 'NanumBarunGothic' not found.\n",
            "WARNING:matplotlib.font_manager:findfont: Font family 'NanumBarunGothic' not found.\n",
            "WARNING:matplotlib.font_manager:findfont: Font family 'NanumBarunGothic' not found.\n",
            "WARNING:matplotlib.font_manager:findfont: Font family 'NanumBarunGothic' not found.\n",
            "WARNING:matplotlib.font_manager:findfont: Font family 'NanumBarunGothic' not found.\n",
            "WARNING:matplotlib.font_manager:findfont: Font family 'NanumBarunGothic' not found.\n",
            "WARNING:matplotlib.font_manager:findfont: Font family 'NanumBarunGothic' not found.\n",
            "WARNING:matplotlib.font_manager:findfont: Font family 'NanumBarunGothic' not found.\n",
            "WARNING:matplotlib.font_manager:findfont: Font family 'NanumBarunGothic' not found.\n",
            "WARNING:matplotlib.font_manager:findfont: Font family 'NanumBarunGothic' not found.\n",
            "WARNING:matplotlib.font_manager:findfont: Font family 'NanumBarunGothic' not found.\n",
            "WARNING:matplotlib.font_manager:findfont: Font family 'NanumBarunGothic' not found.\n",
            "WARNING:matplotlib.font_manager:findfont: Font family 'NanumBarunGothic' not found.\n",
            "WARNING:matplotlib.font_manager:findfont: Font family 'NanumBarunGothic' not found.\n",
            "WARNING:matplotlib.font_manager:findfont: Font family 'NanumBarunGothic' not found.\n",
            "WARNING:matplotlib.font_manager:findfont: Font family 'NanumBarunGothic' not found.\n",
            "WARNING:matplotlib.font_manager:findfont: Font family 'NanumBarunGothic' not found.\n",
            "WARNING:matplotlib.font_manager:findfont: Font family 'NanumBarunGothic' not found.\n",
            "WARNING:matplotlib.font_manager:findfont: Font family 'NanumBarunGothic' not found.\n",
            "WARNING:matplotlib.font_manager:findfont: Font family 'NanumBarunGothic' not found.\n",
            "WARNING:matplotlib.font_manager:findfont: Font family 'NanumBarunGothic' not found.\n",
            "WARNING:matplotlib.font_manager:findfont: Font family 'NanumBarunGothic' not found.\n",
            "WARNING:matplotlib.font_manager:findfont: Font family 'NanumBarunGothic' not found.\n",
            "WARNING:matplotlib.font_manager:findfont: Font family 'NanumBarunGothic' not found.\n",
            "WARNING:matplotlib.font_manager:findfont: Font family 'NanumBarunGothic' not found.\n",
            "WARNING:matplotlib.font_manager:findfont: Font family 'NanumBarunGothic' not found.\n",
            "WARNING:matplotlib.font_manager:findfont: Font family 'NanumBarunGothic' not found.\n",
            "WARNING:matplotlib.font_manager:findfont: Font family 'NanumBarunGothic' not found.\n",
            "WARNING:matplotlib.font_manager:findfont: Font family 'NanumBarunGothic' not found.\n",
            "WARNING:matplotlib.font_manager:findfont: Font family 'NanumBarunGothic' not found.\n"
          ]
        },
        {
          "output_type": "display_data",
          "data": {
            "text/plain": [
              "<Figure size 640x480 with 1 Axes>"
            ],
            "image/png": "[encoded data removed]"
          },
          "metadata": {}
        }
      ]
    },
    {
      "cell_type": "code",
      "source": [
        "sorted_avg_rating[:100]"
      ],
      "metadata": {
        "colab": {
          "base_uri": "https://localhost:8080/"
        },
        "id": "BkFj84Dcb2tO",
        "outputId": "2a28405c-fe0d-44a1-81ff-ccdb5347cef7"
      },
      "execution_count": null,
      "outputs": [
        {
          "output_type": "execute_result",
          "data": {
            "text/plain": [
              "[('simon magus', 10.0),\n",
              " ('dictaphone', 10.0),\n",
              " ('annuity', 10.0),\n",
              " ('beneficiary', 10.0),\n",
              " ('evening gown', 10.0),\n",
              " ('macbeth', 10.0),\n",
              " ('jeepney', 10.0),\n",
              " ('songwriting', 10.0),\n",
              " ('skyjacker', 10.0),\n",
              " ('lion tamer', 10.0),\n",
              " ('franklin the turtle', 10.0),\n",
              " ('juggling coconuts', 10.0),\n",
              " ('english in foreign countries', 10.0),\n",
              " ('mock trial', 10.0),\n",
              " ('yacht and yachting', 10.0),\n",
              " ('intertwined lives', 10.0),\n",
              " ('circus clown', 10.0),\n",
              " ('fukushima', 10.0),\n",
              " ('syndicate', 10.0),\n",
              " ('supper club', 10.0),\n",
              " ('old fashioned', 10.0),\n",
              " ('relish', 10.0),\n",
              " ('fine dining', 10.0),\n",
              " ('fish fry', 10.0),\n",
              " ('wisconsin supper club', 10.0),\n",
              " ('tray', 10.0),\n",
              " ('local food', 10.0),\n",
              " ('bruceploitation', 10.0),\n",
              " ('scott hall', 10.0),\n",
              " ('islamophobia', 10.0),\n",
              " ('lenny bruce', 9.5),\n",
              " ('detroit pistons', 9.5),\n",
              " ('quiet riot', 9.5),\n",
              " ('vaping', 9.5),\n",
              " ('big tobacco', 9.5),\n",
              " ('farm crisis', 9.3),\n",
              " ('greatest', 9.3),\n",
              " ('nhl', 9.3),\n",
              " ('robert e lee', 9.2),\n",
              " ('backyard wrestling', 9.0),\n",
              " ('longest film', 9.0),\n",
              " ('belgrade', 9.0),\n",
              " ('goalkeeper', 9.0),\n",
              " ('ethiopian', 9.0),\n",
              " ('deserted house', 9.0),\n",
              " ('bandy', 9.0),\n",
              " ('joplin', 9.0),\n",
              " ('treece', 9.0),\n",
              " ('tar creek', 9.0),\n",
              " ('picher', 9.0),\n",
              " ('northeast', 9.0),\n",
              " ('southeast', 9.0),\n",
              " ('southwest', 9.0),\n",
              " ('amateur actor', 9.0),\n",
              " ('sports arena', 9.0),\n",
              " ('dream come true', 9.0),\n",
              " ('dior dress', 9.0),\n",
              " ('economic problems', 9.0),\n",
              " ('loincloth', 8.9),\n",
              " ('gospel of luke', 8.9),\n",
              " ('live recording', 8.9),\n",
              " ('stage musical', 8.9),\n",
              " ('hindi cinema', 8.8),\n",
              " ('british cinema', 8.8),\n",
              " ('african cinema', 8.8),\n",
              " ('dogma 95', 8.8),\n",
              " ('great cinematpgraphy', 8.8),\n",
              " ('children on the run', 8.7),\n",
              " ('decree', 8.7),\n",
              " ('mercy', 8.7),\n",
              " ('surgical instruments', 8.7),\n",
              " ('thought', 8.7),\n",
              " ('perception', 8.7),\n",
              " ('diy culture', 8.7),\n",
              " ('marine biology', 8.7),\n",
              " ('dubbing', 8.7),\n",
              " ('based on light novel', 8.633333333333333),\n",
              " ('bus station', 8.6),\n",
              " ('direct cinema', 8.6),\n",
              " ('vegetables', 8.6),\n",
              " ('heatwave', 8.6),\n",
              " ('psychedelic rock', 8.55),\n",
              " ('japanese folklore', 8.533333333333333),\n",
              " ('profile', 8.5),\n",
              " ('digital video', 8.5),\n",
              " ('ore mine', 8.5),\n",
              " ('foxhole', 8.5),\n",
              " ('bryce canyon', 8.5),\n",
              " ('evangelism', 8.5),\n",
              " ('indie rock', 8.5),\n",
              " ('trendsetter', 8.5),\n",
              " ('inner circle', 8.5),\n",
              " ('prince regent', 8.5),\n",
              " ('indian western', 8.5),\n",
              " ('nt live', 8.5),\n",
              " ('stage manager', 8.5),\n",
              " ('understudy', 8.5),\n",
              " ('traveling show', 8.5),\n",
              " ('theater audience', 8.5),\n",
              " ('dark dramedy', 8.5)]"
            ]
          },
          "metadata": {},
          "execution_count": 13
        }
      ]
    },
    {
      "cell_type": "code",
      "source": [
        "# 키워드 빈도와 평점의 상관관계\n",
        "\n",
        "# 각 영화별 키워드 빈도 계산 (1개의 영화에 대해 키워드의 총합)\n",
        "df_merged['keyword_count'] = df_merged['keywords'].apply(lambda x: len(x))\n",
        "\n",
        "# 키워드 빈도와 평점의 상관관계 계산\n",
        "keyword_count_corr = df_merged['keyword_count'].corr(df_merged['vote_average'])\n",
        "print(f\"키워드 빈도와 평점의 상관관계: {keyword_count_corr}\")"
      ],
      "metadata": {
        "colab": {
          "base_uri": "https://localhost:8080/"
        },
        "id": "h7alMR5cNOmf",
        "outputId": "bc52be89-0975-4418-c5bd-eeb18d18a082"
      },
      "execution_count": null,
      "outputs": [
        {
          "output_type": "stream",
          "name": "stdout",
          "text": [
            "키워드 빈도와 평점의 상관관계: 0.16618350319293915\n"
          ]
        }
      ]
    },
    {
      "cell_type": "code",
      "source": [
        "# 회귀분석\n",
        "from sklearn.feature_extraction.text import CountVectorizer\n",
        "from sklearn.linear_model import LinearRegression\n",
        "\n",
        "# 결측값 제거\n",
        "df_cleaned = df_merged.dropna(subset=['vote_average'])\n",
        "\n",
        "# 키워드 벡터화 (Bag of Words 방식)\n",
        "vectorizer = CountVectorizer(tokenizer=lambda x: x, preprocessor=lambda x: x)\n",
        "X = vectorizer.fit_transform(df_cleaned['keywords'])\n",
        "\n",
        "# 평점을 목표 변수로 설정\n",
        "y = df_cleaned['vote_average']\n",
        "\n",
        "# 회귀 분석 모델 학습\n",
        "model = LinearRegression()\n",
        "model.fit(X, y)\n",
        "\n",
        "# 회귀 분석 결과 (회귀 계수 상위 10개의 키워드)\n",
        "coef = model.coef_\n",
        "keywords = vectorizer.get_feature_names_out()\n",
        "top_keywords = sorted(zip(keywords, coef), key=lambda x: x[1], reverse=True)\n",
        "top_keywords[:10]  # 평점에 긍정적인 영향을 미치는 키워드"
      ],
      "metadata": {
        "colab": {
          "base_uri": "https://localhost:8080/"
        },
        "id": "hpJ6lcZBNbsB",
        "outputId": "c7c59be4-e7ec-43eb-a0f7-4931882a2307"
      },
      "execution_count": null,
      "outputs": [
        {
          "output_type": "stream",
          "name": "stderr",
          "text": [
            "/usr/local/lib/python3.10/dist-packages/sklearn/feature_extraction/text.py:525: UserWarning: The parameter 'token_pattern' will not be used since 'tokenizer' is not None'\n",
            "  warnings.warn(\n"
          ]
        },
        {
          "output_type": "execute_result",
          "data": {
            "text/plain": [
              "[('ymca', 17.8742700031878),\n",
              " ('transience', 16.381354995596872),\n",
              " ('lower class', 15.309804893891725),\n",
              " ('hopeless', 15.259473618524531),\n",
              " ('ice melting', 14.935127273025417),\n",
              " ('sold into slavery', 14.644643735874116),\n",
              " ('tech noir', 14.184819699088806),\n",
              " ('deforestation', 13.10275585663247),\n",
              " ('game warden', 12.279716651235107),\n",
              " ('child prostitution', 11.900475727669562)]"
            ]
          },
          "metadata": {},
          "execution_count": 15
        }
      ]
    },
    {
      "cell_type": "code",
      "source": [
        "# 상관계수(Correlation Coefficient)\n",
        "\n",
        "# 키워드 존재 여부를 0과 1로 변환\n",
        "keyword_matrix = X.toarray()  # 영화별 키워드 벡터\n",
        "\n",
        "# DataFrame으로 변환하여 평점과 결합\n",
        "keyword_df = pd.DataFrame(keyword_matrix, columns=vectorizer.get_feature_names_out())\n",
        "final_df = pd.concat([df_merged['vote_average'].reset_index(drop=True), keyword_df], axis=1)\n",
        "\n",
        "# 평점과 각 키워드 간의 상관계수 계산\n",
        "correlation = final_df.corr()\n",
        "\n",
        "# 상관관계가 높은 상위 10개의 키워드\n",
        "keyword_corr = correlation['vote_average'].sort_values(ascending=False)\n",
        "keyword_corr.head(10)"
      ],
      "metadata": {
        "id": "hd0Xzi_LNboK"
      },
      "execution_count": null,
      "outputs": []
    },
    {
      "cell_type": "markdown",
      "source": [
        "### 결과 시각화"
      ],
      "metadata": {
        "id": "fAGLgPaxNnpK"
      }
    },
    {
      "cell_type": "code",
      "source": [
        "import seaborn as sns\n",
        "import matplotlib.pyplot as plt\n",
        "\n",
        "# 상관관계 히트맵\n",
        "plt.figure(figsize=(12, 8))\n",
        "sns.heatmap(correlation, annot=True, cmap='coolwarm')\n",
        "plt.show()\n"
      ],
      "metadata": {
        "id": "rE9hivukNpaY"
      },
      "execution_count": null,
      "outputs": []
    },
    {
      "cell_type": "markdown",
      "source": [
        "### 상관관계 분석을 통한 가설 검정\n",
        "- 피어슨 상관계수를 계산, p-value 확인"
      ],
      "metadata": {
        "id": "i_nF1xAANtGU"
      }
    },
    {
      "cell_type": "code",
      "source": [
        "import pandas as pd\n",
        "from sklearn.feature_extraction.text import CountVectorizer\n",
        "from sklearn.decomposition import TruncatedSVD\n",
        "from scipy.stats import pearsonr\n",
        "\n",
        "# CSV 파일 경로 지정\n",
        "file_path01 = '/content/drive/MyDrive/SeSac 데이터 AI개발과정 mini project/dataset/original_movie_data/keywords.csv'\n",
        "file_path02 = '/content/drive/MyDrive/SeSac 데이터 AI개발과정 mini project/dataset/original_movie_data/movies_metadata.csv'\n",
        "\n",
        "# 데이터 불러오기\n",
        "df_keywords = pd.read_csv(file_path01)\n",
        "df_meta = pd.read_csv(file_path02)\n",
        "\n",
        "# 데이터 타입 일치화\n",
        "df_keywords['id'] = df_keywords['id'].astype(str)\n",
        "df_meta['id'] = df_meta['id'].astype(str)\n",
        "\n",
        "# 데이터 병합 및 결측값 제거\n",
        "df_merged = pd.merge(df_meta[['id', 'vote_average']], df_keywords, on='id', how='inner')\n",
        "df_cleaned = df_merged.dropna(subset=['vote_average'])\n",
        "\n",
        "# 키워드 벡터화 (Bag of Words 방식)\n",
        "vectorizer = CountVectorizer(tokenizer=lambda x: x, preprocessor=lambda x: x)\n",
        "X = vectorizer.fit_transform(df_cleaned['keywords'])\n",
        "\n",
        "# 평점을 목표 변수로 설정\n",
        "y = df_cleaned['vote_average']\n",
        "\n",
        "# 차원 축소 (TruncatedSVD 사용)\n",
        "svd = TruncatedSVD(n_components=50)  # n_components는 선택 사항, 적절한 값으로 설정\n",
        "X_svd = svd.fit_transform(X)\n",
        "\n",
        "# 차원 축소된 데이터와 평점 간의 상관관계 분석\n",
        "df_svd = pd.DataFrame(X_svd)\n",
        "df_svd['vote_average'] = df_cleaned['vote_average'].values\n",
        "\n",
        "# 상관관계 계산\n",
        "correlation_svd = df_svd.corr()['vote_average']\n",
        "print(\"PCA 차원 축소 후 평점과의 상관관계:\")\n",
        "print(correlation_svd)\n"
      ],
      "metadata": {
        "id": "nAhdNPgfW2z4"
      },
      "execution_count": null,
      "outputs": []
    },
    {
      "cell_type": "markdown",
      "source": [
        "### 장르별"
      ],
      "metadata": {
        "id": "Vh8fgDRWYkGg"
      }
    },
    {
      "cell_type": "code",
      "source": [
        "import pandas as pd\n",
        "import numpy as np\n",
        "from scipy import stats\n",
        "import matplotlib.pyplot as plt\n",
        "from wordcloud import WordCloud\n",
        "import ast\n",
        "\n",
        "# CSV 파일 경로 지정\n",
        "file_path01 = '/content/drive/MyDrive/SeSac 데이터 AI개발과정 mini project/dataset/original_movie_data/keywords.csv'\n",
        "file_path02 = '/content/drive/MyDrive/SeSac 데이터 AI개발과정 mini project/dataset/original_movie_data/movies_metadata.csv'\n",
        "\n",
        "# CSV 파일을 DataFrame으로 읽어오기 (low_memory=False 옵션 추가)\n",
        "df_keywords = pd.read_csv(file_path01, low_memory=False)\n",
        "df_meta = pd.read_csv(file_path02, low_memory=False)\n",
        "\n",
        "# 'id' 열을 문자열로 변환\n",
        "df_keywords['id'] = df_keywords['id'].astype(str)\n",
        "df_meta['id'] = df_meta['id'].astype(str)\n",
        "\n",
        "# 필요한 컬럼만 선택\n",
        "df_meta = df_meta[['id', 'title', 'genres', 'vote_average']]\n",
        "df_keywords = df_keywords[['id', 'keywords']]\n",
        "\n",
        "# 데이터 병합\n",
        "df = pd.merge(df_meta, df_keywords, on='id')"
      ],
      "metadata": {
        "collapsed": true,
        "id": "5Clfv27ubglU"
      },
      "execution_count": null,
      "outputs": []
    },
    {
      "cell_type": "code",
      "source": [
        "# 누락된 값 처리\n",
        "df = df.dropna(subset=['id', 'title', 'genres', 'vote_average', 'keywords'])"
      ],
      "metadata": {
        "id": "Rs2LTCtxelQ2"
      },
      "execution_count": null,
      "outputs": []
    },
    {
      "cell_type": "code",
      "source": [
        "# 'vote_average'를 float 타입으로 변환\n",
        "df['vote_average'] = pd.to_numeric(df['vote_average'], errors='coerce')"
      ],
      "metadata": {
        "id": "tJC90hJ2ei8u"
      },
      "execution_count": null,
      "outputs": []
    },
    {
      "cell_type": "code",
      "source": [
        "# genres와 keywords 파싱 함수 수정\n",
        "def parse_json(x):\n",
        "    try:\n",
        "        parsed = ast.literal_eval(x)\n",
        "        return [i['name'] for i in parsed if isinstance(i, dict) and 'name' in i]\n",
        "    except:\n",
        "        return []\n",
        "\n",
        "df['genres'] = df['genres'].apply(parse_json)\n",
        "df['keywords'] = df['keywords'].apply(parse_json)"
      ],
      "metadata": {
        "id": "hoEDUOQjef4v"
      },
      "execution_count": null,
      "outputs": []
    },
    {
      "cell_type": "code",
      "source": [
        "# 데이터 전처리: 장르와 키워드를 개별 행으로 분리\n",
        "df_exploded = df.explode('genres').explode('keywords')"
      ],
      "metadata": {
        "id": "7iTUTQI_ee-2"
      },
      "execution_count": null,
      "outputs": []
    },
    {
      "cell_type": "code",
      "source": [
        "# 빈 문자열 및 None 값 제거\n",
        "df_exploded = df_exploded[df_exploded['genres'].notna() & (df_exploded['genres'] != '')]\n",
        "df_exploded = df_exploded[df_exploded['keywords'].notna() & (df_exploded['keywords'] != '')]"
      ],
      "metadata": {
        "id": "zd4DaWLzedAY"
      },
      "execution_count": null,
      "outputs": []
    },
    {
      "cell_type": "code",
      "source": [
        "# 2. 키워드와 평점 간 상관관계 분석\n",
        "keyword_votes = df_exploded.groupby('keywords')['vote_average'].mean()\n",
        "correlation = np.corrcoef(keyword_votes.index.factorize()[0], keyword_votes.values)[0, 1]\n",
        "t_stat, p_value = stats.ttest_ind(df_exploded['keywords'].factorize()[0], df_exploded['vote_average'])\n",
        "\n",
        "print(f\"Correlation between keywords and vote average: {correlation}\")\n",
        "print(f\"T-statistic: {t_stat}, p-value: {p_value}\")"
      ],
      "metadata": {
        "id": "6an6Ae9zeb-W"
      },
      "execution_count": null,
      "outputs": []
    },
    {
      "cell_type": "code",
      "source": [
        "# 3. 장르별 분석\n",
        "genre_keyword_votes = df_exploded.groupby(['genres', 'keywords'])['vote_average'].mean()\n",
        "top_keywords_by_genre = genre_keyword_votes.groupby('genres').nlargest(10)"
      ],
      "metadata": {
        "id": "Gsj2uQmieTUX"
      },
      "execution_count": null,
      "outputs": []
    },
    {
      "cell_type": "code",
      "source": [
        "# 4. 시각화\n",
        "def generate_wordcloud(genre):\n",
        "    try:\n",
        "        keywords = top_keywords_by_genre.loc[genre]\n",
        "        wordcloud = WordCloud(width=800, height=400, background_color='white').generate_from_frequencies(dict(keywords))\n",
        "        plt.figure(figsize=(10, 5))\n",
        "        plt.imshow(wordcloud, interpolation='bilinear')\n",
        "        plt.axis('off')\n",
        "        plt.title(f'Top Keywords for {genre}')\n",
        "        plt.show()\n",
        "    except Exception as e:\n",
        "        print(f\"Error generating wordcloud for genre '{genre}': {str(e)}\")\n",
        "        print(f\"Keywords for this genre: {dict(top_keywords_by_genre.loc[genre])}\")"
      ],
      "metadata": {
        "id": "cWP2oNGmeTSP"
      },
      "execution_count": null,
      "outputs": []
    },
    {
      "cell_type": "code",
      "source": [
        "# 상위 5개 장르에 대해 워드클라우드 생성\n",
        "top_genres = df_exploded['genres'].value_counts().nlargest(5).index\n",
        "for genre in top_genres:\n",
        "    generate_wordcloud(genre)"
      ],
      "metadata": {
        "id": "Gpr114s8eTP1"
      },
      "execution_count": null,
      "outputs": []
    },
    {
      "cell_type": "code",
      "source": [
        "# 막대 그래프 생성\n",
        "def plot_top_keywords(genre):\n",
        "    try:\n",
        "        keywords = top_keywords_by_genre.loc[genre]\n",
        "        plt.figure(figsize=(12, 6))\n",
        "        keywords.plot(kind='bar')\n",
        "        plt.title(f'Top 10 Keywords for {genre}')\n",
        "        plt.xlabel('Keywords')\n",
        "        plt.ylabel('Average Vote')\n",
        "        plt.xticks(rotation=45, ha='right')\n",
        "        plt.tight_layout()\n",
        "        plt.show()\n",
        "    except Exception as e:\n",
        "        print(f\"Error plotting bar graph for genre '{genre}': {str(e)}\")\n",
        "        print(f\"Keywords for this genre: {dict(top_keywords_by_genre.loc[genre])}\")"
      ],
      "metadata": {
        "id": "IcMGJ-tRePzt"
      },
      "execution_count": null,
      "outputs": []
    },
    {
      "cell_type": "code",
      "source": [
        "# 상위 5개 장르에 대해 막대 그래프 생성\n",
        "for genre in top_genres:\n",
        "    plot_top_keywords(genre)"
      ],
      "metadata": {
        "id": "cAtcUE23c5ng"
      },
      "execution_count": null,
      "outputs": []
    },
    {
      "cell_type": "code",
      "source": [],
      "metadata": {
        "id": "U9T0FM49emVj"
      },
      "execution_count": null,
      "outputs": []
    }
  ]
}